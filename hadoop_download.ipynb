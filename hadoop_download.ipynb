{
 "cells": [
  {
   "cell_type": "code",
   "execution_count": null,
   "id": "a551eabf",
   "metadata": {},
   "outputs": [],
   "source": [
    "import os,glob\n",
    "import datetime\n",
    "import jaydebeapi\n",
    "import pandas as pd\n",
    "import subprocess\n",
    "from hdfs import InsecureClient\n",
    "from hdfs import Client\n",
    "from absl import flags,app\n",
    "from absl.flags import FLAGS"
   ]
  },
  {
   "cell_type": "markdown",
   "id": "8205226f",
   "metadata": {},
   "source": [
    "### 하둡연결"
   ]
  },
  {
   "cell_type": "code",
   "execution_count": null,
   "id": "ece9cfc1",
   "metadata": {},
   "outputs": [],
   "source": [
    "client_hdfs = InsecureClient('http://10.183.134.15:50070', user='bdip')"
   ]
  },
  {
   "cell_type": "code",
   "execution_count": null,
   "id": "d3a5e8be",
   "metadata": {},
   "outputs": [],
   "source": [
    "print(client_hdfs.list('/user/bdip/data/smart/input'))"
   ]
  },
  {
   "cell_type": "markdown",
   "id": "3d2c4336",
   "metadata": {},
   "source": [
    "### 하둡 다운로드"
   ]
  },
  {
   "cell_type": "code",
   "execution_count": null,
   "id": "b667bfe9",
   "metadata": {},
   "outputs": [],
   "source": [
    "flags.DEFINE_string('FROM', '/user/bdip/data/smart/input/','hadoop download directory path')\n",
    "flags.DEFINE_string('TO', '/data/open_dt/','local directory path to download')\n",
    "flags.DEFINE_string('todo', '2021102817','dir name todo')\n",
    "flags.DEFINE_string('f','','kernel')"
   ]
  },
  {
   "cell_type": "code",
   "execution_count": null,
   "id": "7a8b837c",
   "metadata": {},
   "outputs": [],
   "source": [
    "def main(_argv):\n",
    "    c = Clinet('http://10.183.134.15:50070',proxy='bdip')\n",
    "    \n",
    "    home_dir = FLAGS.TO\n",
    "    output_dir = os.path.join(home_dir, 'download')\n",
    "    \n",
    "    todo_dir = FLAGS.todo\n",
    "    hadoop_dir = FLAGS.FROM\n",
    "    \n",
    "    if todo_dir not in c.list(hadoop_dir):\n",
    "        print(f'{todo_dir} not in hadoop server')\n",
    "        \n",
    "        return\n",
    "    \n",
    "    download_path = os.path.join(hadoop_dir, todo_dir)\n",
    "    save_dir_path = os.path.join(output_dir, todo_dir)\n",
    "    os.makedirs(save_dir_path, exist_ok = True)\n",
    "    print(f'download {todo_dir}\\n')\n",
    "    \n",
    "    \n",
    "    # Fetch data from Cubrid\n",
    "    conn = jaydebeapi.connect('cubrid.jdbc.driver.CUBRIDriver', \n",
    "                             'jdbc:cubrid:10.188.208.65:30000:BDIP_POTL_DB:::?charset=utf-8',\n",
    "                             ['bdip','Bdip123#'],\n",
    "                             '/data/open_df/JDBC-10.2-latest-cubrid.jar')\n",
    "    \n",
    "    curr = conn.cursor()\n",
    "    \n",
    "    todo_timestamp = datetime.datetime.strptime(todo_dir,'%Y%m%d%H')\n",
    "    next_timestamp = todo_timestamp+datetime.timedelta(hours=1)\n",
    "    \n",
    "    sql = f\"\"\"\n",
    "            SELECT * \n",
    "            FROM itfc_smt_tpof_outpt\n",
    "            WHERE load_dt BETWEEN '{todo_timestamp}' AND '{next_timestamp}'\n",
    "        \"\"\"    \n",
    "    \n",
    "    curr.execute(sql)\n",
    "    out_data = curr.fetchall()\n",
    "    columns = [i[0] for i in curr.description]\n",
    "    \n",
    "    df = pd.DataFrame(data=out_data,columns=columns)\n",
    "    curr.close()\n",
    "    \n",
    "    size_dict = {f'{i}_{j}':k for i,j,k in zip(df.trop_sn,df.tpof_data_sn,df.file_size)}\n",
    "    \n",
    "    \n",
    "    # download start\n",
    "    total_todo = c.list(download_path)\n",
    "    now_save_dir = os.listdir(save_dir_path)\n",
    "    \n",
    "    count = 0\n",
    "    \n",
    "    \n",
    "    for todo in total_todo:\n",
    "        download_file_path = os.path.join(download_path,todo)\n",
    "        save_file_path = os.path.join(save_dir_path,todo)\n",
    "        \n",
    "        tpof_sn = todo.split('_')[0]\n",
    "        tpof_data_sn = todo.split('_')[1]\n",
    "        \n",
    "        c.download(download_file_path, save_file_path, overwrite=True)\n",
    "        \n",
    "        # download file check\n",
    "        if os.path.isfile(save_file_path) and (os.path.getsize(save_file_path) == size_dict[f'{tpof_sn}_{tpof_data_sn}']):\n",
    "            count +=1\n",
    "        else:\n",
    "            print(f'[error] {save_file_path}')\n",
    "            ind = [(df.tpof_sn == tpof_sn) & (df.tpof_data_sn = tpof_data_sn)].index[0]\n",
    "            df = df.drop(index=ind)\n",
    "            \n",
    "       \n",
    "        os.makedirs(os.path.join(home_dir, f'cubrid/{todo_dir}'), exist_ok = True\n",
    "        df.to_csv(os.path.join(home_dir,f'cubrid/{todo_dir}/itfc_smt_tpof_outpt.csv', encoding = 'utf-8'), index=False)\n",
    "        print(f\"finish download {count}\")\n",
    "        print(f\"[{datetime.datetime.now()}]\")\n",
    "                    \n",
    "                    \n",
    "if __name__ = \"__main__\":\n",
    "    try:\n",
    "        app.run(main)\n",
    "    except SystemExit:\n",
    "        pass            \n",
    "        \n",
    "    \n",
    "    "
   ]
  }
 ],
 "metadata": {
  "kernelspec": {
   "display_name": "Python 3 (ipykernel)",
   "language": "python",
   "name": "python3"
  },
  "language_info": {
   "codemirror_mode": {
    "name": "ipython",
    "version": 3
   },
   "file_extension": ".py",
   "mimetype": "text/x-python",
   "name": "python",
   "nbconvert_exporter": "python",
   "pygments_lexer": "ipython3",
   "version": "3.8.8"
  }
 },
 "nbformat": 4,
 "nbformat_minor": 5
}
