{
 "cells": [
  {
   "cell_type": "code",
   "execution_count": 1,
   "id": "68487015",
   "metadata": {},
   "outputs": [],
   "source": [
    "import cv2\n",
    "import matplotlib.pyplot as plt\n",
    "import os,glob"
   ]
  },
  {
   "cell_type": "code",
   "execution_count": 2,
   "id": "db411a52",
   "metadata": {},
   "outputs": [],
   "source": [
    "## 파일리스트 불러오는 함수\n",
    "def sorted_list(path):\n",
    "    tmplist = glob.glob(path)\n",
    "    tmplist.sort()\n",
    "    \n",
    "    return tmplist"
   ]
  },
  {
   "cell_type": "code",
   "execution_count": 3,
   "id": "aebd32d9",
   "metadata": {},
   "outputs": [],
   "source": [
    "path = 'C:/Users/User/Desktop/img_dataset'"
   ]
  },
  {
   "cell_type": "code",
   "execution_count": 6,
   "id": "e90136b5",
   "metadata": {},
   "outputs": [],
   "source": [
    "list_data = sorted_list(os.path.join(path,'*mp4'))"
   ]
  },
  {
   "cell_type": "code",
   "execution_count": 7,
   "id": "ce453d2f",
   "metadata": {},
   "outputs": [
    {
     "data": {
      "text/plain": [
       "['C:/Users/User/Desktop/img_dataset\\\\kyj1103_blackbox2.mp4',\n",
       " 'C:/Users/User/Desktop/img_dataset\\\\pedestrian10.mp4']"
      ]
     },
     "execution_count": 7,
     "metadata": {},
     "output_type": "execute_result"
    }
   ],
   "source": [
    "list_data"
   ]
  },
  {
   "cell_type": "code",
   "execution_count": 14,
   "id": "08f7c982",
   "metadata": {},
   "outputs": [],
   "source": [
    "total_name = []\n",
    "total_duration = []\n",
    "total_width = []\n",
    "total_height = []\n",
    "total_bit_rate = []\n",
    "total_frame_rate = []\n",
    "total_filesize_bytes = []\n",
    "total_filesize_bit = []\n",
    "total_frame_count = []\n",
    "total_container = []\n",
    "total_codec = []"
   ]
  },
  {
   "cell_type": "code",
   "execution_count": 15,
   "id": "cd691b88",
   "metadata": {},
   "outputs": [],
   "source": [
    "def video_info(filename):\n",
    "    \n",
    "    \n",
    "    \n",
    "    \n",
    "    cap = cv2.VideoCapture(filename)\n",
    "    \n",
    "    width = int(cap.get(cv2.CAP_PROP_FRAME_WIDTH))\n",
    "    height = int(cap.get(cv2.CAP_PROP_FRAME_HEIGHT))\n",
    "    \n",
    "    fps = int(cap.get(cv2.CAP_PROP_FPS))\n",
    "    if fps ==0:\n",
    "        fps =0.001\n",
    "    \n",
    "    filesize = os.path.getsize(filename)\n",
    "    \n",
    "    frame_count = int(cap.get(cv2.CAP_PROP_FRAME_COUNT))\n",
    "    if frame_count == 0:\n",
    "        frame_count  = 0.001\n",
    "        \n",
    "    name = filename.split('/')[-1]\n",
    "    container = name.split('.')[-1]\n",
    "    \n",
    "    duration = int(frame_count / fps)\n",
    "    \n",
    "    bit_rate = int(filesize*8 /duration /1000)  # 바이트 * 8 = 비트.    비트 전송률 = 파일용량 / 재생시간\n",
    "    \n",
    "    codec_int = int(cap.get(cv2.CAP_PROP_FOURCC))\n",
    "    \n",
    "    codec = ''\n",
    "    for i in range(4):\n",
    "        int_value = codec_int >> 8 * i & 0xFF\n",
    "        codec += chr(int_value)\n",
    "    \n",
    "    \n",
    "    total_name.append(name)\n",
    "    total_duration.append(duration)\n",
    "    total_width.append(width)\n",
    "    total_height.append(height)\n",
    "    total_bit_rate.append(bit_rate)\n",
    "    total_frame_rate.append(fps)\n",
    "    total_filesize_bytes.append(filesize)\n",
    "    total_filesize_bit.append(filesize * 8)\n",
    "    total_frame_count.append(frame_count)\n",
    "    total_container.append(container)\n",
    "    total_codec.append(codec)\n",
    "    \n",
    "    print('Name:',name)\n",
    "    print('Duration(s):',duration)\n",
    "    print('Image Size: {','width: ',width,',', 'height: ',height,'}')\n",
    "    print('Bit rate(kbps)',bit_rate)\n",
    "    print('Frame rate:',fps)\n",
    "    print('File Size(Bytes):',filesize)\n",
    "    print('File Size(Bit):',filesize * 8)\n",
    "    print('Frame Count:', frame_count)\n",
    "    print('Codec:', codec)\n",
    "        "
   ]
  },
  {
   "cell_type": "code",
   "execution_count": 16,
   "id": "5900deba",
   "metadata": {},
   "outputs": [
    {
     "name": "stdout",
     "output_type": "stream",
     "text": [
      "Name: img_dataset\\kyj1103_blackbox2.mp4\n",
      "Duration(s): 20\n",
      "Image Size: { width:  1280 , height:  720 }\n",
      "Bit rate(kbps) 2303\n",
      "Frame rate: 30\n",
      "File Size(Bytes): 5758067\n",
      "File Size(Bit): 46064536\n",
      "Frame Count: 601\n",
      "Codec: avc1\n",
      "-----------------------------\n",
      "Name: img_dataset\\pedestrian10.mp4\n",
      "Duration(s): 10\n",
      "Image Size: { width:  1920 , height:  1080 }\n",
      "Bit rate(kbps) 4983\n",
      "Frame rate: 24\n",
      "File Size(Bytes): 6228786\n",
      "File Size(Bit): 49830288\n",
      "Frame Count: 241\n",
      "Codec: avc1\n",
      "-----------------------------\n"
     ]
    }
   ],
   "source": [
    "for i in list_data:\n",
    "    video_info(i)\n",
    "    print('-----------------------------')"
   ]
  },
  {
   "cell_type": "markdown",
   "id": "5449d4d3",
   "metadata": {},
   "source": [
    "#### 데이터 프레임 만들기"
   ]
  },
  {
   "cell_type": "code",
   "execution_count": 17,
   "id": "49085322",
   "metadata": {},
   "outputs": [],
   "source": [
    "import pandas as pd\n",
    "pd.options.display.float_format = '{:.3f}'.format"
   ]
  },
  {
   "cell_type": "code",
   "execution_count": 18,
   "id": "d4c2617c",
   "metadata": {},
   "outputs": [],
   "source": [
    "df = pd.DataFrame(data = [total_name,\n",
    "    total_duration,\n",
    "    total_width,\n",
    "    total_height,\n",
    "    total_bit_rate,\n",
    "    total_frame_rate,\n",
    "    total_filesize_bytes,\n",
    "    total_filesize_bit,\n",
    "    total_frame_count,\n",
    "    total_container,\n",
    "    total_codec])"
   ]
  },
  {
   "cell_type": "code",
   "execution_count": 21,
   "id": "e21a1e7f",
   "metadata": {},
   "outputs": [],
   "source": [
    "df = df.transpose()"
   ]
  },
  {
   "cell_type": "code",
   "execution_count": 23,
   "id": "0ea4bae1",
   "metadata": {},
   "outputs": [],
   "source": [
    "df.columns = ['name','duration(s)','width','height','bit rate','frame rate','filesize(bytes)','filesize(bit)','frame count',\n",
    "             'container','codec']"
   ]
  },
  {
   "cell_type": "code",
   "execution_count": 24,
   "id": "be1a2f1b",
   "metadata": {},
   "outputs": [
    {
     "data": {
      "text/html": [
       "<div>\n",
       "<style scoped>\n",
       "    .dataframe tbody tr th:only-of-type {\n",
       "        vertical-align: middle;\n",
       "    }\n",
       "\n",
       "    .dataframe tbody tr th {\n",
       "        vertical-align: top;\n",
       "    }\n",
       "\n",
       "    .dataframe thead th {\n",
       "        text-align: right;\n",
       "    }\n",
       "</style>\n",
       "<table border=\"1\" class=\"dataframe\">\n",
       "  <thead>\n",
       "    <tr style=\"text-align: right;\">\n",
       "      <th></th>\n",
       "      <th>name</th>\n",
       "      <th>duration(s)</th>\n",
       "      <th>width</th>\n",
       "      <th>height</th>\n",
       "      <th>bit rate</th>\n",
       "      <th>frame rate</th>\n",
       "      <th>filesize(bytes)</th>\n",
       "      <th>filesize(bit)</th>\n",
       "      <th>frame count</th>\n",
       "      <th>container</th>\n",
       "      <th>codec</th>\n",
       "    </tr>\n",
       "  </thead>\n",
       "  <tbody>\n",
       "    <tr>\n",
       "      <th>0</th>\n",
       "      <td>img_dataset\\kyj1103_blackbox2.mp4</td>\n",
       "      <td>20</td>\n",
       "      <td>1280</td>\n",
       "      <td>720</td>\n",
       "      <td>2303</td>\n",
       "      <td>30</td>\n",
       "      <td>5758067</td>\n",
       "      <td>46064536</td>\n",
       "      <td>601</td>\n",
       "      <td>mp4</td>\n",
       "      <td>avc1</td>\n",
       "    </tr>\n",
       "    <tr>\n",
       "      <th>1</th>\n",
       "      <td>img_dataset\\pedestrian10.mp4</td>\n",
       "      <td>10</td>\n",
       "      <td>1920</td>\n",
       "      <td>1080</td>\n",
       "      <td>4983</td>\n",
       "      <td>24</td>\n",
       "      <td>6228786</td>\n",
       "      <td>49830288</td>\n",
       "      <td>241</td>\n",
       "      <td>mp4</td>\n",
       "      <td>avc1</td>\n",
       "    </tr>\n",
       "  </tbody>\n",
       "</table>\n",
       "</div>"
      ],
      "text/plain": [
       "                                name duration(s) width height bit rate  \\\n",
       "0  img_dataset\\kyj1103_blackbox2.mp4          20  1280    720     2303   \n",
       "1       img_dataset\\pedestrian10.mp4          10  1920   1080     4983   \n",
       "\n",
       "  frame rate filesize(bytes) filesize(bit) frame count container codec  \n",
       "0         30         5758067      46064536         601       mp4  avc1  \n",
       "1         24         6228786      49830288         241       mp4  avc1  "
      ]
     },
     "execution_count": 24,
     "metadata": {},
     "output_type": "execute_result"
    }
   ],
   "source": [
    "df"
   ]
  },
  {
   "cell_type": "code",
   "execution_count": 25,
   "id": "8633caa9",
   "metadata": {},
   "outputs": [],
   "source": [
    "df_index = df.set_index('name')"
   ]
  },
  {
   "cell_type": "code",
   "execution_count": 26,
   "id": "188741b1",
   "metadata": {},
   "outputs": [
    {
     "data": {
      "text/plain": [
       "name               2\n",
       "duration(s)        2\n",
       "width              2\n",
       "height             2\n",
       "bit rate           2\n",
       "frame rate         2\n",
       "filesize(bytes)    2\n",
       "filesize(bit)      2\n",
       "frame count        2\n",
       "container          2\n",
       "codec              2\n",
       "dtype: int64"
      ]
     },
     "execution_count": 26,
     "metadata": {},
     "output_type": "execute_result"
    }
   ],
   "source": [
    "df.count()"
   ]
  },
  {
   "cell_type": "code",
   "execution_count": 27,
   "id": "ee21c04e",
   "metadata": {},
   "outputs": [
    {
     "data": {
      "text/plain": [
       "name               0\n",
       "duration(s)        0\n",
       "width              0\n",
       "height             0\n",
       "bit rate           0\n",
       "frame rate         0\n",
       "filesize(bytes)    0\n",
       "filesize(bit)      0\n",
       "frame count        0\n",
       "container          0\n",
       "codec              0\n",
       "dtype: int64"
      ]
     },
     "execution_count": 27,
     "metadata": {},
     "output_type": "execute_result"
    }
   ],
   "source": [
    "df.isnull().sum()"
   ]
  },
  {
   "cell_type": "code",
   "execution_count": 28,
   "id": "ae2b21af",
   "metadata": {},
   "outputs": [
    {
     "data": {
      "text/plain": [
       "array(['mp4'], dtype=object)"
      ]
     },
     "execution_count": 28,
     "metadata": {},
     "output_type": "execute_result"
    }
   ],
   "source": [
    "df['container'].unique()"
   ]
  },
  {
   "cell_type": "code",
   "execution_count": 29,
   "id": "e378251f",
   "metadata": {},
   "outputs": [
    {
     "data": {
      "text/plain": [
       "'avc1'"
      ]
     },
     "execution_count": 29,
     "metadata": {},
     "output_type": "execute_result"
    }
   ],
   "source": [
    "df['codec'][0]"
   ]
  },
  {
   "cell_type": "code",
   "execution_count": null,
   "id": "7eb3d46d",
   "metadata": {},
   "outputs": [],
   "source": [
    "#df.replace('MP4','mp4',inplace=True)"
   ]
  },
  {
   "cell_type": "code",
   "execution_count": 30,
   "id": "655dcf22",
   "metadata": {},
   "outputs": [
    {
     "name": "stdout",
     "output_type": "stream",
     "text": [
      "0\n",
      "1\n"
     ]
    }
   ],
   "source": [
    "#for i in range(len(df)):\n",
    "#    if df['codec'][i] = ' \\x00\\x00\\x00\\x00':\n",
    "#        df['codec'][i] = 'no video'"
   ]
  },
  {
   "cell_type": "code",
   "execution_count": 31,
   "id": "2b30621a",
   "metadata": {},
   "outputs": [
    {
     "data": {
      "text/html": [
       "<div>\n",
       "<style scoped>\n",
       "    .dataframe tbody tr th:only-of-type {\n",
       "        vertical-align: middle;\n",
       "    }\n",
       "\n",
       "    .dataframe tbody tr th {\n",
       "        vertical-align: top;\n",
       "    }\n",
       "\n",
       "    .dataframe thead th {\n",
       "        text-align: right;\n",
       "    }\n",
       "</style>\n",
       "<table border=\"1\" class=\"dataframe\">\n",
       "  <thead>\n",
       "    <tr style=\"text-align: right;\">\n",
       "      <th></th>\n",
       "      <th>name</th>\n",
       "      <th>duration(s)</th>\n",
       "      <th>width</th>\n",
       "      <th>height</th>\n",
       "      <th>bit rate</th>\n",
       "      <th>frame rate</th>\n",
       "      <th>filesize(bytes)</th>\n",
       "      <th>filesize(bit)</th>\n",
       "      <th>frame count</th>\n",
       "      <th>container</th>\n",
       "      <th>codec</th>\n",
       "    </tr>\n",
       "  </thead>\n",
       "  <tbody>\n",
       "    <tr>\n",
       "      <th>0</th>\n",
       "      <td>img_dataset\\kyj1103_blackbox2.mp4</td>\n",
       "      <td>20</td>\n",
       "      <td>1280</td>\n",
       "      <td>720</td>\n",
       "      <td>2303</td>\n",
       "      <td>30</td>\n",
       "      <td>5758067</td>\n",
       "      <td>46064536</td>\n",
       "      <td>601</td>\n",
       "      <td>mp4</td>\n",
       "      <td>avc1</td>\n",
       "    </tr>\n",
       "    <tr>\n",
       "      <th>1</th>\n",
       "      <td>img_dataset\\pedestrian10.mp4</td>\n",
       "      <td>10</td>\n",
       "      <td>1920</td>\n",
       "      <td>1080</td>\n",
       "      <td>4983</td>\n",
       "      <td>24</td>\n",
       "      <td>6228786</td>\n",
       "      <td>49830288</td>\n",
       "      <td>241</td>\n",
       "      <td>mp4</td>\n",
       "      <td>avc1</td>\n",
       "    </tr>\n",
       "  </tbody>\n",
       "</table>\n",
       "</div>"
      ],
      "text/plain": [
       "                                name duration(s) width height bit rate  \\\n",
       "0  img_dataset\\kyj1103_blackbox2.mp4          20  1280    720     2303   \n",
       "1       img_dataset\\pedestrian10.mp4          10  1920   1080     4983   \n",
       "\n",
       "  frame rate filesize(bytes) filesize(bit) frame count container codec  \n",
       "0         30         5758067      46064536         601       mp4  avc1  \n",
       "1         24         6228786      49830288         241       mp4  avc1  "
      ]
     },
     "execution_count": 31,
     "metadata": {},
     "output_type": "execute_result"
    }
   ],
   "source": [
    "df"
   ]
  },
  {
   "cell_type": "code",
   "execution_count": null,
   "id": "c0543f47",
   "metadata": {},
   "outputs": [],
   "source": []
  }
 ],
 "metadata": {
  "kernelspec": {
   "display_name": "Python 3",
   "language": "python",
   "name": "python3"
  },
  "language_info": {
   "codemirror_mode": {
    "name": "ipython",
    "version": 3
   },
   "file_extension": ".py",
   "mimetype": "text/x-python",
   "name": "python",
   "nbconvert_exporter": "python",
   "pygments_lexer": "ipython3",
   "version": "3.8.8"
  }
 },
 "nbformat": 4,
 "nbformat_minor": 5
}
