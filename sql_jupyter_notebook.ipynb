{
 "cells": [
  {
   "cell_type": "markdown",
   "id": "adf5da05",
   "metadata": {},
   "source": [
    "### paramiko 설치를 위한 패키지\n",
    "- bcrypt-3.2.0-cp36-abi3-manylinux2010_x86_64.whl\n",
    "- cffi-1.15.0-cp36-cp36m-manylinux_2_5_x86.manylinux1_x86_64.whl\n",
    "- cryptography-35.0.0-cp36-abi3-manylinux_2_24_x86_64.whl\n",
    "- paramiko-2.8.0-py2.py3-none-any.whl\n",
    "- pycparser-2.20-py2.py3-none-any.whl\n",
    "- PyNaCl-1.4.0-cp35-abi3-manylinux1_x86_64.whl\n",
    "- pysftp-0.2.9.tar.gz\n",
    "- six-1.16.0-py2.py3-none-any.whl\n",
    "\n"
   ]
  },
  {
   "cell_type": "markdown",
   "id": "a8890297",
   "metadata": {},
   "source": [
    "### 나스서버 접속"
   ]
  },
  {
   "cell_type": "code",
   "execution_count": 1,
   "id": "36dfca79",
   "metadata": {},
   "outputs": [],
   "source": [
    "import paramiko"
   ]
  },
  {
   "cell_type": "code",
   "execution_count": 2,
   "id": "1d28b58d",
   "metadata": {},
   "outputs": [],
   "source": [
    "def wasConnection():\n",
    "    ssh = paramiko.SSHClient()\n",
    "    ssh.set_missing_host_key_policy(paramiko.AutoAddPolicy())\n",
    "    ssh.connect(hostname = '10.188.207.56', port=9022, username='jboss',password='Jboss123#')\n",
    "    \n",
    "    return ssh\n"
   ]
  },
  {
   "cell_type": "code",
   "execution_count": null,
   "id": "22ebd45c",
   "metadata": {},
   "outputs": [],
   "source": [
    "ssh = wasConnection()"
   ]
  },
  {
   "cell_type": "code",
   "execution_count": null,
   "id": "36b6b095",
   "metadata": {},
   "outputs": [],
   "source": [
    "## nas에 있는 text.txt를 내 서버 kyj1103으로 nas56_test.txt라는 이름으로 이동\n",
    "\n",
    "sftp.get('/DATA/bdip/smart/test.txt','/home/kyj1103/nas56_test.txt')"
   ]
  },
  {
   "cell_type": "code",
   "execution_count": null,
   "id": "773f3159",
   "metadata": {},
   "outputs": [],
   "source": [
    "## 나스연결 종료\n",
    "\n",
    "sftp.close()\n",
    "ssh.close()\n"
   ]
  },
  {
   "cell_type": "code",
   "execution_count": null,
   "id": "f318332b",
   "metadata": {},
   "outputs": [],
   "source": [
    "## 모듈이 적용된 영상리스트가 있는 nas56_test읽기\n",
    "\n",
    "nas56_test = open('/home/kyj1103/nas56_test.txt')\n",
    "nas56_test2 = nas56_test.readlines()"
   ]
  },
  {
   "cell_type": "markdown",
   "id": "966c1931",
   "metadata": {},
   "source": [
    "### 큐브리드 서버"
   ]
  },
  {
   "cell_type": "code",
   "execution_count": null,
   "id": "72742c9e",
   "metadata": {},
   "outputs": [],
   "source": [
    "import jaydebeapi as jp\n",
    "import datetime\n",
    "import pandas as pd"
   ]
  },
  {
   "cell_type": "code",
   "execution_count": null,
   "id": "7106a680",
   "metadata": {},
   "outputs": [],
   "source": [
    "conn_65 = jp.connect('cubrid.jdbc.driver.CUBRIDDriver','jdbc:cubrid:10.188.208.65:30000:BDIP_POTL_DB:::?charset=utf-8', \n",
    "                    driver_args ={'user':'bdip','password':'Bdip123#'}, jars='/home/kyj1103/JDBC-10.2-latest-cubrid.jar')"
   ]
  },
  {
   "cell_type": "code",
   "execution_count": null,
   "id": "cf3c1dbc",
   "metadata": {},
   "outputs": [],
   "source": [
    "curs_65 = conn_65.cursor()"
   ]
  },
  {
   "cell_type": "code",
   "execution_count": null,
   "id": "64d2085a",
   "metadata": {},
   "outputs": [],
   "source": [
    "curs_65.execute(f\"\"\"\n",
    "SELECT * \n",
    "FROM smt_cvlcpt_out_tbl_bak20211201\n",
    "\"\"\")"
   ]
  },
  {
   "cell_type": "code",
   "execution_count": null,
   "id": "f5f72511",
   "metadata": {},
   "outputs": [],
   "source": [
    "result = curs_65.getchall()"
   ]
  },
  {
   "cell_type": "code",
   "execution_count": null,
   "id": "ca1a2dfa",
   "metadata": {},
   "outputs": [],
   "source": [
    "for i in curs_65.description:\n",
    "    print(i)\n",
    "    print(type(i))\n",
    "    print(len(i))"
   ]
  },
  {
   "cell_type": "code",
   "execution_count": null,
   "id": "6bf28807",
   "metadata": {},
   "outputs": [],
   "source": [
    "columns_65 = [i[0] for i in curs_65.description]"
   ]
  },
  {
   "cell_type": "code",
   "execution_count": null,
   "id": "62dd778d",
   "metadata": {},
   "outputs": [],
   "source": [
    "smt_cvlcpt_out_tbl_bak20211201 = pd.DataFrame(data = result, columns = columns_65)"
   ]
  },
  {
   "cell_type": "code",
   "execution_count": null,
   "id": "1efc1f05",
   "metadata": {},
   "outputs": [],
   "source": [
    "smt_cvlcpt_out_tbl_bak20211201 = smt_cvlcpt_out_tbl_bak20211201.fillna({'load_dt':'2020-01-01 01:01:01'})"
   ]
  },
  {
   "cell_type": "code",
   "execution_count": null,
   "id": "8f2d0dc1",
   "metadata": {},
   "outputs": [],
   "source": [
    "smt_lpr_out_tbl_bak20211201['tpos_sn']\n",
    "smt_lpr_out_tbl_bak20211201.dtypes"
   ]
  },
  {
   "cell_type": "code",
   "execution_count": null,
   "id": "1778a43a",
   "metadata": {},
   "outputs": [],
   "source": [
    "conn_65.close()\n",
    "curs_65.close()"
   ]
  },
  {
   "cell_type": "code",
   "execution_count": null,
   "id": "86ec99b9",
   "metadata": {},
   "outputs": [],
   "source": [
    "conn_64 = jp.connect('cubrid.jdbc.driver.CUBRIDDriver','jdbc:cubrid:10.188.208.64:30000:bdip:::?charset=utf-8', \n",
    "                    driver_args ={'user':'bdip','password':'Bdip123#'}, jars='/home/kyj1103/JDBC-10.2-latest-cubrid.jar')"
   ]
  },
  {
   "cell_type": "code",
   "execution_count": null,
   "id": "0833d070",
   "metadata": {},
   "outputs": [],
   "source": [
    "curs_64_cursor = conn_64.cursor()"
   ]
  },
  {
   "cell_type": "code",
   "execution_count": null,
   "id": "466bc2f4",
   "metadata": {},
   "outputs": [],
   "source": [
    "curs_64_cursor.execute(f\"\"\"\n",
    "SELECT * \n",
    "FROM smt_cvlcpt_out_tbl_bak20211201\n",
    "\"\"\")"
   ]
  },
  {
   "cell_type": "code",
   "execution_count": null,
   "id": "6ee7b927",
   "metadata": {},
   "outputs": [],
   "source": [
    "result_64 = curs_64_cursor.fetchall()"
   ]
  },
  {
   "cell_type": "code",
   "execution_count": null,
   "id": "94119bb6",
   "metadata": {},
   "outputs": [],
   "source": [
    "columns_64 = [i[0] for i in curs_64_cursor.description]"
   ]
  },
  {
   "cell_type": "code",
   "execution_count": null,
   "id": "f0d10ccb",
   "metadata": {},
   "outputs": [],
   "source": [
    "smt_cvlcpt_out_tbl_bak20211201_2 = pd.DataFrame(data = result_64, columns = columns_64)"
   ]
  },
  {
   "cell_type": "code",
   "execution_count": null,
   "id": "b47a72d2",
   "metadata": {},
   "outputs": [],
   "source": [
    "CVLCPT_insert_list = [tuple(x) for x in smt_cvlcpt_out_tbl_bak20211201[['tpof_sn','tpof_data_sn','tpof_data_kind','rslt_phys_file_nm','ext','rslt_file_size','ridtf_yn','nas_stgr_dir','del_yn','load_dt']].values]"
   ]
  },
  {
   "cell_type": "code",
   "execution_count": null,
   "id": "cb56736f",
   "metadata": {},
   "outputs": [],
   "source": [
    "CVLCPT_insert_list[:100]"
   ]
  },
  {
   "cell_type": "code",
   "execution_count": null,
   "id": "3999c6cd",
   "metadata": {},
   "outputs": [],
   "source": [
    "CVLCPT_insert_list[0]"
   ]
  },
  {
   "cell_type": "code",
   "execution_count": null,
   "id": "6af66caf",
   "metadata": {},
   "outputs": [],
   "source": [
    "insert_columns = ['tpof_sn','tpof_data_sn','tpof_data_kind','rslt_phys_file_nm','ext','rslt_file_size','ridtf_yn','nas_stgr_dir','del_yn','load_dt']"
   ]
  },
  {
   "cell_type": "code",
   "execution_count": null,
   "id": "9b262d52",
   "metadata": {},
   "outputs": [],
   "source": [
    "table_name = 'smt_cvlcpt_out_tbl_bak20211201'"
   ]
  },
  {
   "cell_type": "code",
   "execution_count": null,
   "id": "45f0e038",
   "metadata": {},
   "outputs": [],
   "source": [
    "#### 테스트\n",
    "\n",
    "','.join([str(i) for i in insert_columns])\n",
    "','.join([str(i) for i in CVLCPT_insert_list[:5]])"
   ]
  },
  {
   "cell_type": "code",
   "execution_count": null,
   "id": "a9a267fb",
   "metadata": {},
   "outputs": [],
   "source": [
    "sql.format(table_name = table_name,\n",
    "    cols = ','.join([str(i) for i in insert_columns])\n",
    "    val = ','.join([str(i) for i in CVLCPT_insert_list[:10]])\n",
    "          )"
   ]
  },
  {
   "cell_type": "code",
   "execution_count": null,
   "id": "fc5e6c6d",
   "metadata": {},
   "outputs": [],
   "source": [
    "print(sql.format(table_name = table_name,\n",
    "    cols = ','.join([str(i) for i in insert_columns])\n",
    "    val = ','.join([str(i) for i in CVLCPT_insert_list[:10]])\n",
    "    ))"
   ]
  },
  {
   "cell_type": "markdown",
   "id": "c62934ce",
   "metadata": {},
   "source": [
    "### 65번 서버의 테이블을 64번으로 insert"
   ]
  },
  {
   "cell_type": "code",
   "execution_count": null,
   "id": "33a1f8d9",
   "metadata": {},
   "outputs": [],
   "source": [
    "### table 1"
   ]
  },
  {
   "cell_type": "code",
   "execution_count": null,
   "id": "fe22ec04",
   "metadata": {},
   "outputs": [],
   "source": [
    "with conn_64.cursor() as curs_64:\n",
    "    sql = \"\"\"\n",
    "        INSERT INTO {table_name}\n",
    "            (\n",
    "            tpof_sn,\n",
    "            tpof_data_sn,\n",
    "            tpof_data_knd,\n",
    "            phys_file_nm,\n",
    "            ext,\n",
    "            vcl_no,\n",
    "            inpt_dt,\n",
    "            file_size,\n",
    "            hdfs_stgr_dir,\n",
    "            anon_scs_yn,\n",
    "            anon_scs_cplt_dt,\n",
    "            np_recg_scs_yn,\n",
    "            np_recg_cplt_dt,\n",
    "            src_data_del_yn,\n",
    "            src_data_del_dt,\n",
    "            load_dt\n",
    "        \n",
    "            )\n",
    "    \n",
    "        SELECT \n",
    "            Source.tpof_sn,\n",
    "            Source.tpof_data_sn,\n",
    "            Source.tpof_data_knd,\n",
    "            Source.phys_file_nm,\n",
    "            Source.ext,\n",
    "            Source.vcl_no,\n",
    "            Source.inpt_dt,\n",
    "            Source.file_size,\n",
    "            Sourcehdfs_stgr_dir,\n",
    "            Source.anon_scs_yn,\n",
    "            \n",
    "            CASE WHEN \n",
    "                Source.anon_scs_cplt_dt = '2020-01-01 01:01:01' THEN NULL\n",
    "                ELSE\n",
    "                    TO_TIMESTAMP(Source.anon_scs_cplt_dt) END AS anon_scs_cplt_dt,\n",
    "                    \n",
    "            Source.np_recg_scs_yn,\n",
    "            \n",
    "            CASE WHEN \n",
    "                Source.np_recg_cplt_dt = '2020-01-01 01:01:01' THEN NULL\n",
    "                ELSE\n",
    "                    TO_TIMESTAMP(Source.np_recg_cplt_dt) END AS np_recg_cplt_dt,\n",
    "                    \n",
    "            Source.src_data_del_yn,\n",
    "            \n",
    "            CASE WHEN \n",
    "                Source.src_data_del_dt = '2020-01-01 01:01:01' THEN NULL\n",
    "                ELSE\n",
    "                    TO_TIMESTAMP(Source.src_data_del_dt) END AS src_data_del_dt,\n",
    "                    \n",
    "            CASE WHEN \n",
    "                Source.load_dt = '2020-01-01 01:01:01' THEN NULL\n",
    "                ELSE\n",
    "                    TO_TIMESTAMP(Source.load_dt) END AS load_dt\n",
    "                    \n",
    "            FROM \n",
    "            (SELECT * \n",
    "            FROM\n",
    "                (VALUES {val}) AS s ({cols})\n",
    "                ) Source\n",
    "                ;\n",
    "\n",
    "            \"\"\"\n",
    "    curs_64.execute(sql.format(table_name = table_name,\n",
    "                    cols = ','.join([str(i) for i in insert_columns]),\n",
    "                    val = ','.join([str(i) for i in CVLCPT_insert_list[:10]])                \n",
    "                    ))\n",
    "    "
   ]
  },
  {
   "cell_type": "code",
   "execution_count": null,
   "id": "02b5453b",
   "metadata": {},
   "outputs": [],
   "source": [
    "### table 2"
   ]
  },
  {
   "cell_type": "code",
   "execution_count": null,
   "id": "b026ee84",
   "metadata": {},
   "outputs": [],
   "source": [
    "with conn_64.cursor() as curs_64:\n",
    "    sql = \"\"\"\n",
    "        INSERT INTO {table_name}\n",
    "            (\n",
    "            tpof_sn,\n",
    "            tpof_data_sn,\n",
    "            img_sn,\n",
    "            rslt_phys_file_nm,\n",
    "            ext,\n",
    "            rslt_file_size,\n",
    "            np_detc_yn,\n",
    "            np_recg_mtch_yn,\n",
    "            nas_stgr_dir,\n",
    "            del_yn,\n",
    "            load_dt\n",
    "        \n",
    "            )\n",
    "    \n",
    "        SELECT \n",
    "            Source.tpof_sn,\n",
    "            Source.tpof_data_sn,\n",
    "            Source.img_sn,\n",
    "            Source.rslt_phys_file_nm,\n",
    "            Source.ext,\n",
    "            Source.rslt_file_size,\n",
    "            Source.np_detc_yn,\n",
    "            Source.np_recg_mtch_yn,\n",
    "            Source.nas_stgr_dir,\n",
    "            Source.del_yn,\n",
    "      \n",
    "            CASE WHEN \n",
    "                Source.load_dt IS NOT NULL THEN TO_TIMESTAMP(Source.load_dt)\n",
    "            ELSE NULL END AS load_dt\n",
    "            \n",
    "                    \n",
    "            FROM \n",
    "            (SELECT * \n",
    "            FROM\n",
    "                (VALUES {val}) AS s ({cols})\n",
    "                ) Source\n",
    "                ;\n",
    "\n",
    "            \"\"\"\n",
    "    curs_64.execute(sql.format(table_name = table_name,\n",
    "                    cols = ','.join([str(i) for i in insert_columns]),\n",
    "                    val = ','.join([str(i) for i in CVLCPT_insert_list[:10]])                \n",
    "                    ))\n",
    "    "
   ]
  },
  {
   "cell_type": "code",
   "execution_count": null,
   "id": "a3b6cf02",
   "metadata": {},
   "outputs": [],
   "source": [
    "### table 3"
   ]
  },
  {
   "cell_type": "code",
   "execution_count": null,
   "id": "8bcb7689",
   "metadata": {},
   "outputs": [],
   "source": [
    "with conn_64.cursor() as curs_64:\n",
    "    sql = \"\"\"\n",
    "        INSERT INTO {table_name}\n",
    "            (\n",
    "            sn,\n",
    "            tpof_sn,\n",
    "            tpof_data_sn,\n",
    "            img_sn,\n",
    "            np_recg_vcl_no\n",
    " \n",
    "            )\n",
    "    \n",
    "        SELECT \n",
    "            Source.sn,\n",
    "            Source.tpof_sn,\n",
    "            Source.tpof_data_sn,\n",
    "            Source.img_sn,\n",
    "            Source.np_recg_vcl_no\n",
    "\n",
    "                    \n",
    "            FROM \n",
    "            (SELECT * \n",
    "            FROM\n",
    "                (VALUES {val}) AS s ({cols})\n",
    "                ) Source\n",
    "                ;\n",
    "\n",
    "            \"\"\"\n",
    "    curs_64.execute(sql.format(table_name = table_name,\n",
    "                    cols = ','.join([str(i) for i in insert_columns]),\n",
    "                    val = ','.join([str(i) for i in CVLCPT_insert_list[:10]])                \n",
    "                    ))"
   ]
  },
  {
   "cell_type": "code",
   "execution_count": null,
   "id": "662f2d86",
   "metadata": {},
   "outputs": [],
   "source": [
    "### table 4"
   ]
  },
  {
   "cell_type": "code",
   "execution_count": null,
   "id": "f1b9e32d",
   "metadata": {},
   "outputs": [],
   "source": [
    "with conn_64.cursor() as curs_64:\n",
    "    sql = \"\"\"\n",
    "        INSERT INTO {table_name}\n",
    "            (\n",
    "            tpof_sn,\n",
    "            tpof_data_sn,\n",
    "            tpof_data_knd,\n",
    "            rslt_phys_file_nm,\n",
    "            ext,\n",
    "            rslt_file_size,\n",
    "            ridtf_yn,\n",
    "            nas_stgr_dir,\n",
    "            del_yn,\n",
    "            load_dt\n",
    "\n",
    "            )\n",
    "    \n",
    "        SELECT \n",
    "            Source.tpof_sn,\n",
    "            Source.tpof_data_sn,\n",
    "            Source.tpof_data_knd\n",
    "            Source.rslt_phys_file_nm,\n",
    "            Source.ext,\n",
    "            Source.rslt_file_size,\n",
    "            Source.ridtf_yn,\n",
    "            Source.nas_stgr_dir,\n",
    "            Source.del_yn,\n",
    "            \n",
    "            CASE WHEN \n",
    "                Source.load_dt IS NOT NULL THEN TO_TIMESTAMP(Source.load_dt)\n",
    "            ELSE NULL END AS load_dt\n",
    "\n",
    "                    \n",
    "            FROM \n",
    "            (SELECT * \n",
    "            FROM\n",
    "                (VALUES {val}) AS s ({cols})\n",
    "                ) Source\n",
    "                ;\n",
    "\n",
    "            \"\"\"\n",
    "    curs_64.execute(sql.format(table_name = table_name,\n",
    "                    cols = ','.join([str(i) for i in insert_columns]),\n",
    "                    val = ','.join([str(i) for i in CVLCPT_insert_list[:10]])                \n",
    "                    ))\n",
    "    "
   ]
  },
  {
   "cell_type": "code",
   "execution_count": null,
   "id": "7ebe6c61",
   "metadata": {},
   "outputs": [],
   "source": []
  },
  {
   "cell_type": "code",
   "execution_count": null,
   "id": "f8bf3a0e",
   "metadata": {},
   "outputs": [],
   "source": []
  },
  {
   "cell_type": "code",
   "execution_count": null,
   "id": "987d10d5",
   "metadata": {},
   "outputs": [],
   "source": []
  }
 ],
 "metadata": {
  "kernelspec": {
   "display_name": "Python 3 (ipykernel)",
   "language": "python",
   "name": "python3"
  },
  "language_info": {
   "codemirror_mode": {
    "name": "ipython",
    "version": 3
   },
   "file_extension": ".py",
   "mimetype": "text/x-python",
   "name": "python",
   "nbconvert_exporter": "python",
   "pygments_lexer": "ipython3",
   "version": "3.8.8"
  }
 },
 "nbformat": 4,
 "nbformat_minor": 5
}
