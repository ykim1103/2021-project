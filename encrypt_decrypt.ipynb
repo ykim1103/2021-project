{
 "cells": [
  {
   "cell_type": "markdown",
   "id": "1be481b9",
   "metadata": {},
   "source": [
    "## 01. 이미지 암/복호화"
   ]
  },
  {
   "cell_type": "code",
   "execution_count": 2,
   "id": "9a0f7a0e",
   "metadata": {},
   "outputs": [],
   "source": [
    "import cv2\n",
    "import numpy as np\n",
    "from Cryptodome import Random\n",
    "from Cryptodome.Cipher import AES\n",
    "from Cryptodome.Util import Padding\n",
    "import matplotlib.pyplot as plt\n",
    "import os,glob\n"
   ]
  },
  {
   "cell_type": "markdown",
   "id": "a9fb94f6",
   "metadata": {},
   "source": [
    "#### 01-1. 암호화/복호화 함수"
   ]
  },
  {
   "cell_type": "code",
   "execution_count": null,
   "id": "690557bc",
   "metadata": {},
   "outputs": [],
   "source": [
    "class Cipher:\n",
    "    def __init__(self,key,mode=AES.MODE_GCM):\n",
    "        self.key = Padding.pad(str(key).encode(),16)\n",
    "        #self.key = key\n",
    "        self.mode = mode\n",
    "        print(self.key)\n",
    "        \n",
    "    def encrypt(self,crop_image):\n",
    "        _, png_image = cv2.imencode('.png',crop_image)\n",
    "        byte_image = png_image.tobytes()\n",
    "        \n",
    "        iv = Random.new().read(AES.block_size)\n",
    "        cipher = AES.new(self.key, self.mode, iv)\n",
    "        \n",
    "        return iv+cipher.encrypt(byte_image)\n",
    "    \n",
    "    def decrypt(self, enc_data):\n",
    "        iv = enc_data[:16]\n",
    "        cipher = AES.new(self.key,self.mode,iv)\n",
    "        dec_result = cipher.decrypt(enc_data[16:])\n",
    "        box_array = np.frombuffer(dec_result, dtype='uint8')\n",
    "        box_image = cv2.imdecode(box_array, cv2.IMREAD_COLOR)\n",
    "        \n",
    "        return box_image\n",
    "        "
   ]
  },
  {
   "cell_type": "markdown",
   "id": "2fc93f27",
   "metadata": {},
   "source": [
    "#### 01-2. 키설정"
   ]
  },
  {
   "cell_type": "code",
   "execution_count": 3,
   "id": "8dfde1b8",
   "metadata": {},
   "outputs": [],
   "source": [
    "import string"
   ]
  },
  {
   "cell_type": "code",
   "execution_count": 4,
   "id": "6af24ae7",
   "metadata": {},
   "outputs": [],
   "source": [
    "def key_generator(size = 16, chars = string.ascii_lowercase):\n",
    "    return ''.join(random.choice(chars) for _ in range(size))"
   ]
  },
  {
   "cell_type": "code",
   "execution_count": null,
   "id": "c261d49b",
   "metadata": {},
   "outputs": [],
   "source": [
    "key = key_generator(16)"
   ]
  },
  {
   "cell_type": "markdown",
   "id": "02aa67e2",
   "metadata": {},
   "source": [
    "#### 01-3. 이미지로딩"
   ]
  },
  {
   "cell_type": "code",
   "execution_count": null,
   "id": "7b8d4c26",
   "metadata": {},
   "outputs": [],
   "source": [
    "path = 'C:/Users/User/Desktop/img_dataset'\n",
    "filename = path+'001c2a14-c7138401.jpg'\n",
    "img = cv2.imread(filename)\n",
    "plt.imshow(cv2.cvtColor(img,cv2.COLOR_BGR2RGB))\n",
    "plt.show()"
   ]
  },
  {
   "cell_type": "markdown",
   "id": "ba346b6c",
   "metadata": {},
   "source": [
    "#### 01-4. 적용"
   ]
  },
  {
   "cell_type": "code",
   "execution_count": null,
   "id": "521075f4",
   "metadata": {},
   "outputs": [],
   "source": [
    "Cipher(bytes(key,encoding='utf8')).encrypt(img)"
   ]
  },
  {
   "cell_type": "code",
   "execution_count": null,
   "id": "3995442c",
   "metadata": {},
   "outputs": [],
   "source": [
    "Cipher(bytes(key,encoding='utf8')).decrypt(Cipher(bytes(key,encoding='utf8')).encrypt(img))"
   ]
  },
  {
   "cell_type": "markdown",
   "id": "badd66b1",
   "metadata": {},
   "source": [
    "## 02. 텍스트암호화\n",
    "- pip install pycryptodomex"
   ]
  },
  {
   "cell_type": "code",
   "execution_count": null,
   "id": "43d3b41e",
   "metadata": {},
   "outputs": [],
   "source": [
    "import base64\n",
    "from Crypto import Random\n",
    "from Crypto.Cipher import AES"
   ]
  },
  {
   "cell_type": "markdown",
   "id": "4167a8f1",
   "metadata": {},
   "source": [
    "#### 02-1. 블럭사이즈에 대한 패딩로직\n",
    "- 스트링 문자열을 encrypt에 인자로 전달시 입력받은 데이터의 길이가 BLOCK_SIZE의 배수가 아닐때 패딩개념이 필요하다. AES에서는 BLOCK_SIZE가 128bit 즉 16바이트로 고정되는데, 아래 코드를 통해 자동 패딩처리한다. 한글에 대한 처리를 위해 pad시에 len(s.encode('utf-8')) 처리가 반드시 필요하다. 영문과 기호는 문자당 1바이트지만 한글은 문자당 2바이트이기 때문이다. len()함수를 활용해 길이를 통해 바이트 계산을 하는 방식이므로 ‘utf-8’ 변환하지 않을 경우 오류가 발생하게 된다."
   ]
  },
  {
   "cell_type": "code",
   "execution_count": null,
   "id": "e408bbed",
   "metadata": {},
   "outputs": [],
   "source": [
    "BS = 16\n",
    "pad = lambda s: s + (BS - len(s.encode('utf-8')) % BS) * chr(BS - len(s.encode('utf-8')) % BS)\n",
    "unpad = lambda s : s[:-ord(s[len(s)-1:])]"
   ]
  },
  {
   "cell_type": "markdown",
   "id": "9cb4eefc",
   "metadata": {},
   "source": [
    "#### 02-2. 암호화알고리즘 클래스 생성\n",
    "- encrypt 함수의 내부를 보면 입력받은 raw데이터를 raw.encode(‘utf-8’) 16바이트 바이너리로 변환 후, 다시 base64.b64encode() 인코딩 한다. 즉 문자열을 기준으로 해서 byte화시키는 문자인코딩과는 다르게 bytes를 기준으로 문자열화 시키는 인코딩 방식 이 필요하다."
   ]
  },
  {
   "cell_type": "code",
   "execution_count": null,
   "id": "addc5a09",
   "metadata": {},
   "outputs": [],
   "source": [
    "class AESCipher:\n",
    "    def __init__( self, key ):\n",
    "        self.key = key\n",
    "\n",
    "    def encrypt( self, raw ):\n",
    "        raw = pad(raw)\n",
    "        iv = Random.new().read( AES.block_size )\n",
    "        cipher = AES.new( self.key, AES.MODE_CBC, iv )\n",
    "        return base64.b64encode( iv + cipher.encrypt( raw.encode('utf-8') ) )\n",
    "\n",
    "    def decrypt( self, enc ):\n",
    "        enc = base64.b64decode(enc)\n",
    "        iv = enc[:16]\n",
    "        cipher = AES.new(self.key, AES.MODE_CBC, iv )\n",
    "        return unpad(cipher.decrypt( enc[16:] ))"
   ]
  },
  {
   "cell_type": "markdown",
   "id": "d493469e",
   "metadata": {},
   "source": [
    "#### 02-3. 키설정\n",
    "- AES256을 구현하기 위해 32바이트의 키를 생성한다. ( 2 ^32^ = 256) KEY값은 아래와 같이 리스트 베열로 바로 지정하거나, time함수와 hashlib를 통해 임의로 생성해볼 수 있다."
   ]
  },
  {
   "cell_type": "markdown",
   "id": "3ed5e87d",
   "metadata": {},
   "source": [
    "###### 02-3-1. 리스트에 세팅하는 방식"
   ]
  },
  {
   "cell_type": "code",
   "execution_count": 12,
   "id": "7ba2b0a4",
   "metadata": {},
   "outputs": [],
   "source": [
    "key = [0x10, 0x01, 0x15, 0x1B, 0xA1, 0x11, 0x57, 0x72, 0x6C, 0x21, 0x56, 0x57, 0x62, 0x16, 0x05, 0x3D,\n",
    "        0xFF, 0xFE, 0x11, 0x1B, 0x21, 0x31, 0x57, 0x72, 0x6B, 0x21, 0xA6, 0xA7, 0x6E, 0xE6, 0xE5, 0x3F]"
   ]
  },
  {
   "cell_type": "markdown",
   "id": "71fa0a26",
   "metadata": {},
   "source": [
    "###### 02-3-2. 함수 방식(1)"
   ]
  },
  {
   "cell_type": "code",
   "execution_count": 13,
   "id": "f3ee84ca",
   "metadata": {},
   "outputs": [],
   "source": [
    "def key_generator(size = 16, chars = string.ascii_lowercase):\n",
    "    return ''.join(random.choice(chars) for _ in range(size))"
   ]
  },
  {
   "cell_type": "code",
   "execution_count": null,
   "id": "5e4879af",
   "metadata": {},
   "outputs": [],
   "source": [
    "key = key_generator(16)"
   ]
  },
  {
   "cell_type": "markdown",
   "id": "bead27bc",
   "metadata": {},
   "source": [
    "###### 02-3-2. 함수 방식(2)"
   ]
  },
  {
   "cell_type": "code",
   "execution_count": null,
   "id": "c7fdb769",
   "metadata": {},
   "outputs": [],
   "source": [
    "import base64\n",
    "import hashlib\n",
    "\n",
    "def make_pass():\n",
    "    timekey = int(time.time())\n",
    "    return str(timekey)\n",
    "\n",
    "password = make_pass().encode('utf-8')"
   ]
  },
  {
   "cell_type": "markdown",
   "id": "b40ace86",
   "metadata": {},
   "source": [
    "#### 02-4. 암호화/복호화"
   ]
  },
  {
   "cell_type": "code",
   "execution_count": 15,
   "id": "6b51086e",
   "metadata": {},
   "outputs": [],
   "source": [
    "data = \"Iran has seized a foreign oil tanker in the Persian Gulf that was smuggling fuel to some Arab states, according to a state television report on Sunday. The report said that the tanker had been detained and the ship's foreign crew held by the country's elite Islamic Revolutionary Guards Corps.\""
   ]
  },
  {
   "cell_type": "code",
   "execution_count": null,
   "id": "765cfed8",
   "metadata": {},
   "outputs": [],
   "source": [
    "encrypted_data = AESCipher(bytes(key)).encrypt(data)  \n",
    "encrypted_data"
   ]
  },
  {
   "cell_type": "code",
   "execution_count": null,
   "id": "3b39b56b",
   "metadata": {},
   "outputs": [],
   "source": [
    "decrypted_data = AESCipher(bytes(key)).decrypt(encrypted_data)\n",
    "decrypted_data.decode('utf-8')"
   ]
  }
 ],
 "metadata": {
  "kernelspec": {
   "display_name": "Python 3",
   "language": "python",
   "name": "python3"
  },
  "language_info": {
   "codemirror_mode": {
    "name": "ipython",
    "version": 3
   },
   "file_extension": ".py",
   "mimetype": "text/x-python",
   "name": "python",
   "nbconvert_exporter": "python",
   "pygments_lexer": "ipython3",
   "version": "3.8.8"
  }
 },
 "nbformat": 4,
 "nbformat_minor": 5
}
