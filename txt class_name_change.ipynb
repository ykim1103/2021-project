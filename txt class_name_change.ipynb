{
 "cells": [
  {
   "cell_type": "markdown",
   "id": "b2e1f9f7",
   "metadata": {},
   "source": [
    "#### txt파일에 있는 class를 face로 변환시키기"
   ]
  },
  {
   "cell_type": "code",
   "execution_count": 8,
   "id": "05b5772c",
   "metadata": {},
   "outputs": [],
   "source": [
    "path ='C:/Users/User/Downloads/archive3/dataset/images/valid_change_class/'"
   ]
  },
  {
   "cell_type": "code",
   "execution_count": 9,
   "id": "fc460f7b",
   "metadata": {},
   "outputs": [],
   "source": [
    "import os, glob"
   ]
  },
  {
   "cell_type": "code",
   "execution_count": 10,
   "id": "3351d17b",
   "metadata": {},
   "outputs": [],
   "source": [
    "def sorted_list(path):\n",
    "    \n",
    "    tmplist = glob.glob(path)\n",
    "    tmplist.sort()\n",
    "    \n",
    "    return tmplist"
   ]
  },
  {
   "cell_type": "code",
   "execution_count": 11,
   "id": "c3c9860b",
   "metadata": {},
   "outputs": [],
   "source": [
    "list_data = sorted_list(os.path.join(path,'*.txt'))"
   ]
  },
  {
   "cell_type": "code",
   "execution_count": 12,
   "id": "c4a4dd9d",
   "metadata": {},
   "outputs": [
    {
     "data": {
      "text/plain": [
       "['C:/Users/User/Downloads/archive3/dataset/images/valid_change_class\\\\KZJIS15WO6Beubo2G8EBQJpKpzIwOojzKyF02yshdNs.txt',\n",
       " 'C:/Users/User/Downloads/archive3/dataset/images/valid_change_class\\\\KristinMiller-TanurPrizeEntry.txt',\n",
       " 'C:/Users/User/Downloads/archive3/dataset/images/valid_change_class\\\\LQhzVZl.txt',\n",
       " 'C:/Users/User/Downloads/archive3/dataset/images/valid_change_class\\\\LYNXMPEG102IV_L.txt',\n",
       " 'C:/Users/User/Downloads/archive3/dataset/images/valid_change_class\\\\LondonChineseny260120-3.txt',\n",
       " 'C:/Users/User/Downloads/archive3/dataset/images/valid_change_class\\\\Medical-face-mask-printed-fashion-surgical-disposable_350x350.txt',\n",
       " 'C:/Users/User/Downloads/archive3/dataset/images/valid_change_class\\\\Model-with-White-face-mask-with-red-X-2.txt',\n",
       " 'C:/Users/User/Downloads/archive3/dataset/images/valid_change_class\\\\NINTCHDBPICT000556650347-1.txt',\n",
       " 'C:/Users/User/Downloads/archive3/dataset/images/valid_change_class\\\\NINTCHDBPICT000558929314-1.txt',\n",
       " 'C:/Users/User/Downloads/archive3/dataset/images/valid_change_class\\\\Nose_exposed_N95_grande.txt',\n",
       " 'C:/Users/User/Downloads/archive3/dataset/images/valid_change_class\\\\iStock-998848022_1024.txt',\n",
       " 'C:/Users/User/Downloads/archive3/dataset/images/valid_change_class\\\\images102.txt',\n",
       " 'C:/Users/User/Downloads/archive3/dataset/images/valid_change_class\\\\images103.txt',\n",
       " 'C:/Users/User/Downloads/archive3/dataset/images/valid_change_class\\\\images19.txt',\n",
       " 'C:/Users/User/Downloads/archive3/dataset/images/valid_change_class\\\\images22.txt',\n",
       " 'C:/Users/User/Downloads/archive3/dataset/images/valid_change_class\\\\images23.txt',\n",
       " 'C:/Users/User/Downloads/archive3/dataset/images/valid_change_class\\\\images24.txt',\n",
       " 'C:/Users/User/Downloads/archive3/dataset/images/valid_change_class\\\\images248.txt',\n",
       " 'C:/Users/User/Downloads/archive3/dataset/images/valid_change_class\\\\images25.txt',\n",
       " 'C:/Users/User/Downloads/archive3/dataset/images/valid_change_class\\\\images27.txt',\n",
       " 'C:/Users/User/Downloads/archive3/dataset/images/valid_change_class\\\\images281.txt',\n",
       " 'C:/Users/User/Downloads/archive3/dataset/images/valid_change_class\\\\images282.txt',\n",
       " 'C:/Users/User/Downloads/archive3/dataset/images/valid_change_class\\\\images284.txt',\n",
       " 'C:/Users/User/Downloads/archive3/dataset/images/valid_change_class\\\\images285.txt',\n",
       " 'C:/Users/User/Downloads/archive3/dataset/images/valid_change_class\\\\images287.txt',\n",
       " 'C:/Users/User/Downloads/archive3/dataset/images/valid_change_class\\\\images29.txt',\n",
       " 'C:/Users/User/Downloads/archive3/dataset/images/valid_change_class\\\\images292.txt',\n",
       " 'C:/Users/User/Downloads/archive3/dataset/images/valid_change_class\\\\images293.txt',\n",
       " 'C:/Users/User/Downloads/archive3/dataset/images/valid_change_class\\\\images295.txt',\n",
       " 'C:/Users/User/Downloads/archive3/dataset/images/valid_change_class\\\\images30.txt',\n",
       " 'C:/Users/User/Downloads/archive3/dataset/images/valid_change_class\\\\images301.txt',\n",
       " 'C:/Users/User/Downloads/archive3/dataset/images/valid_change_class\\\\images31.txt',\n",
       " 'C:/Users/User/Downloads/archive3/dataset/images/valid_change_class\\\\images32.txt',\n",
       " 'C:/Users/User/Downloads/archive3/dataset/images/valid_change_class\\\\images33.txt',\n",
       " 'C:/Users/User/Downloads/archive3/dataset/images/valid_change_class\\\\images34.txt',\n",
       " 'C:/Users/User/Downloads/archive3/dataset/images/valid_change_class\\\\images36.txt',\n",
       " 'C:/Users/User/Downloads/archive3/dataset/images/valid_change_class\\\\images38.txt',\n",
       " 'C:/Users/User/Downloads/archive3/dataset/images/valid_change_class\\\\images39.txt',\n",
       " 'C:/Users/User/Downloads/archive3/dataset/images/valid_change_class\\\\images40.txt',\n",
       " 'C:/Users/User/Downloads/archive3/dataset/images/valid_change_class\\\\images43.txt',\n",
       " 'C:/Users/User/Downloads/archive3/dataset/images/valid_change_class\\\\images44.txt',\n",
       " 'C:/Users/User/Downloads/archive3/dataset/images/valid_change_class\\\\images45.txt',\n",
       " 'C:/Users/User/Downloads/archive3/dataset/images/valid_change_class\\\\images47.txt',\n",
       " 'C:/Users/User/Downloads/archive3/dataset/images/valid_change_class\\\\images70.txt',\n",
       " 'C:/Users/User/Downloads/archive3/dataset/images/valid_change_class\\\\images71.txt',\n",
       " 'C:/Users/User/Downloads/archive3/dataset/images/valid_change_class\\\\images72.txt',\n",
       " 'C:/Users/User/Downloads/archive3/dataset/images/valid_change_class\\\\images73.txt',\n",
       " 'C:/Users/User/Downloads/archive3/dataset/images/valid_change_class\\\\images97.txt',\n",
       " 'C:/Users/User/Downloads/archive3/dataset/images/valid_change_class\\\\images98.txt',\n",
       " 'C:/Users/User/Downloads/archive3/dataset/images/valid_change_class\\\\img-1579662489-42239.txt',\n",
       " 'C:/Users/User/Downloads/archive3/dataset/images/valid_change_class\\\\img-1580446267-73019900.txt',\n",
       " 'C:/Users/User/Downloads/archive3/dataset/images/valid_change_class\\\\in-swine_flu_school.txt',\n",
       " 'C:/Users/User/Downloads/archive3/dataset/images/valid_change_class\\\\infectado_con_coronavirus_visito_la_cdmx_2C_gobierno_ya_monitorea_a_quienes_estuvieron_expuestos.txt',\n",
       " 'C:/Users/User/Downloads/archive3/dataset/images/valid_change_class\\\\is-it-safe-to-travel-to-china-india-issues-advisory-after-deadly-coronavirus-outbreak-1200x834.txt',\n",
       " 'C:/Users/User/Downloads/archive3/dataset/images/valid_change_class\\\\istockphoto-1146065612-1024x1024.txt',\n",
       " 'C:/Users/User/Downloads/archive3/dataset/images/valid_change_class\\\\istockphoto-609942644-170667a.txt',\n",
       " 'C:/Users/User/Downloads/archive3/dataset/images/valid_change_class\\\\istockphoto-609943198-1024x1024.txt',\n",
       " 'C:/Users/User/Downloads/archive3/dataset/images/valid_change_class\\\\jlkkk.txt',\n",
       " 'C:/Users/User/Downloads/archive3/dataset/images/valid_change_class\\\\jordan.txt',\n",
       " 'C:/Users/User/Downloads/archive3/dataset/images/valid_change_class\\\\jthomas201909170039750xx4000-2250-0-209.txt',\n",
       " 'C:/Users/User/Downloads/archive3/dataset/images/valid_change_class\\\\kGf6-hnvukfe8013164.txt',\n",
       " 'C:/Users/User/Downloads/archive3/dataset/images/valid_change_class\\\\khvhkk.txt',\n",
       " 'C:/Users/User/Downloads/archive3/dataset/images/valid_change_class\\\\kljlhk.txt',\n",
       " 'C:/Users/User/Downloads/archive3/dataset/images/valid_change_class\\\\kolkata1.txt',\n",
       " 'C:/Users/User/Downloads/archive3/dataset/images/valid_change_class\\\\kolkata2.txt',\n",
       " 'C:/Users/User/Downloads/archive3/dataset/images/valid_change_class\\\\los-angeles-airport-passengers-masks-coronavirus.txt',\n",
       " 'C:/Users/User/Downloads/archive3/dataset/images/valid_change_class\\\\madame_1.txt',\n",
       " 'C:/Users/User/Downloads/archive3/dataset/images/valid_change_class\\\\man-wearing-protection-face-mask-at-airport-VW6Q39R.txt',\n",
       " 'C:/Users/User/Downloads/archive3/dataset/images/valid_change_class\\\\mao-virus-900x540.txt',\n",
       " 'C:/Users/User/Downloads/archive3/dataset/images/valid_change_class\\\\mark3-1024x607.txt',\n",
       " 'C:/Users/User/Downloads/archive3/dataset/images/valid_change_class\\\\mask02_1140x855.txt',\n",
       " 'C:/Users/User/Downloads/archive3/dataset/images/valid_change_class\\\\mask2.txt',\n",
       " 'C:/Users/User/Downloads/archive3/dataset/images/valid_change_class\\\\maxresdefault (1).txt',\n",
       " 'C:/Users/User/Downloads/archive3/dataset/images/valid_change_class\\\\maxresdefault (2).txt',\n",
       " 'C:/Users/User/Downloads/archive3/dataset/images/valid_change_class\\\\maxresdefault (3).txt',\n",
       " 'C:/Users/User/Downloads/archive3/dataset/images/valid_change_class\\\\maxresdefault (4).txt',\n",
       " 'C:/Users/User/Downloads/archive3/dataset/images/valid_change_class\\\\maxresdefault.txt',\n",
       " 'C:/Users/User/Downloads/archive3/dataset/images/valid_change_class\\\\mayors-walk-b.txt',\n",
       " 'C:/Users/User/Downloads/archive3/dataset/images/valid_change_class\\\\medicom_50_1578883042_4270ce52_progressive.txt',\n",
       " 'C:/Users/User/Downloads/archive3/dataset/images/valid_change_class\\\\merlin_167450115_211c72f4-b732-4b8f-aac3-de17afbab5cc-superJumbo.txt',\n",
       " 'C:/Users/User/Downloads/archive3/dataset/images/valid_change_class\\\\merlin_167592177_faab52d5-95c1-48a0-b533-934d06fbed8d-superJumbo.txt',\n",
       " 'C:/Users/User/Downloads/archive3/dataset/images/valid_change_class\\\\merlin_168049857_d9dadaa8-4e4b-4bc6-bc01-76ac21214669-superJumbo.txt',\n",
       " 'C:/Users/User/Downloads/archive3/dataset/images/valid_change_class\\\\merlin_168147336_bd400ea4-2e50-4b87-90dc-8eb885e5d7be-master1050.txt',\n",
       " 'C:/Users/User/Downloads/archive3/dataset/images/valid_change_class\\\\merlin_168528063_bf3cc2fc-0dc5-4941-82f2-190567367dd8-master1050.txt',\n",
       " 'C:/Users/User/Downloads/archive3/dataset/images/valid_change_class\\\\merlin_168719709_ca49a12b-ebb2-4374-8d02-45648d2c312e-master1050.txt',\n",
       " 'C:/Users/User/Downloads/archive3/dataset/images/valid_change_class\\\\merlin_168765846_a430c80e-b84d-4ee4-a65e-4adda3f1e353-master1050.txt',\n",
       " 'C:/Users/User/Downloads/archive3/dataset/images/valid_change_class\\\\merlin_168812403_11ff9d1e-46f1-48fc-814a-bcf89fafb6e4-master1050.txt',\n",
       " 'C:/Users/User/Downloads/archive3/dataset/images/valid_change_class\\\\merlin_168867003_1a8a1c5a-76af-4542-8585-bd6745eb0922-master1050.txt',\n",
       " 'C:/Users/User/Downloads/archive3/dataset/images/valid_change_class\\\\merlin_168868266_885872d9-a451-4b7a-acae-0a6629426979-master1050.txt',\n",
       " 'C:/Users/User/Downloads/archive3/dataset/images/valid_change_class\\\\merlin_168883104_2f24a73d-d374-4f3e-8395-74b9ee4b865f-master1050.txt',\n",
       " 'C:/Users/User/Downloads/archive3/dataset/images/valid_change_class\\\\mers-south-korea-kids.txt',\n",
       " 'C:/Users/User/Downloads/archive3/dataset/images/valid_change_class\\\\mfile_1504919_1_L_20200126145338.txt',\n",
       " 'C:/Users/User/Downloads/archive3/dataset/images/valid_change_class\\\\mfile_1505052_1_L_20200127104344.txt',\n",
       " 'C:/Users/User/Downloads/archive3/dataset/images/valid_change_class\\\\mfile_1505703_1_L_20200130190326.txt',\n",
       " 'C:/Users/User/Downloads/archive3/dataset/images/valid_change_class\\\\mfile_1505918_1_L_20200131194930.txt',\n",
       " 'C:/Users/User/Downloads/archive3/dataset/images/valid_change_class\\\\mpulse_health_plan_payee.txt',\n",
       " 'C:/Users/User/Downloads/archive3/dataset/images/valid_change_class\\\\msgsgsg.txt',\n",
       " 'C:/Users/User/Downloads/archive3/dataset/images/valid_change_class\\\\msk_1024.txt',\n",
       " 'C:/Users/User/Downloads/archive3/dataset/images/valid_change_class\\\\nCoV_17_20200204.txt',\n",
       " 'C:/Users/User/Downloads/archive3/dataset/images/valid_change_class\\\\news-videogiochi-intelligenza-artificiale-previsto-giorni-prima-epidemia-coronavirus-1580213989065.txt']"
      ]
     },
     "execution_count": 12,
     "metadata": {},
     "output_type": "execute_result"
    }
   ],
   "source": [
    "list_data"
   ]
  },
  {
   "cell_type": "code",
   "execution_count": 175,
   "id": "228f970f",
   "metadata": {},
   "outputs": [],
   "source": [
    "text_file_path = path+'nouveau-virus-en-chine-la-ville-de-wuhan-mise-en-quarantaine-1.txt'\n",
    "#new_file_path = 'C:\\Users\\User\\Downloads\\archive3\\dataset\\images\\test - 복사본/nouveau-virus-en-chine-la-ville-de-wuhan-mise-en-quarantaine-1.txt'\n",
    "new_text_content = ''\n",
    "target_word = '1'\n",
    "new_word = '0'\n",
    "with open(text_file_path,'r') as f:\n",
    "    lines = f.readlines() ## 기존 텍스트파일에 대한 내용을 모두 읽는다.\n",
    "    for i, l in enumerate(lines):\n",
    "        new_string = l.strip().replace(target_word,new_word)\n",
    "        if new_string:\n",
    "            new_text_content += new_string + '\\n'\n",
    "        else:\n",
    "            new_text_content += '\\n'\n",
    "            \n",
    "with open(text_file_path,'w') as f:\n",
    "    f.write(new_text_content)            "
   ]
  },
  {
   "cell_type": "markdown",
   "id": "0fa9fea9",
   "metadata": {},
   "source": [
    "#### 위에 있는 코드 변형 적용"
   ]
  },
  {
   "cell_type": "code",
   "execution_count": 204,
   "id": "90af9b4f",
   "metadata": {},
   "outputs": [],
   "source": [
    "text_file_path = path+'nz_srilanka_280120.txt'"
   ]
  },
  {
   "cell_type": "code",
   "execution_count": 208,
   "id": "c8d528fc",
   "metadata": {},
   "outputs": [
    {
     "name": "stdout",
     "output_type": "stream",
     "text": [
      "0 0.3484375 0.43024618991793667 0.035937500000000004 0.06096131301289566\n",
      "\n",
      "0 0.5183593750000001 0.46131301289566234 0.02890625 0.052754982415005855\n",
      "\n",
      "0 0.7488281250000001 0.45603751465416176 0.03359375 0.058616647127784284\n",
      "\n",
      "0 0.5828125000000001 0.4695193434935521 0.03125 0.05509964830011723\n",
      "\n"
     ]
    }
   ],
   "source": [
    "with open(text_file_path,'r') as f:\n",
    "    lines = f.readlines()\n",
    "    for i in lines:\n",
    "        a = i[0].replace('1','0')\n",
    "        print(a + i[1:])    "
   ]
  },
  {
   "cell_type": "markdown",
   "id": "a9cf9ac1",
   "metadata": {},
   "source": [
    "#### 함수로 적용"
   ]
  },
  {
   "cell_type": "code",
   "execution_count": 13,
   "id": "f01d15b3",
   "metadata": {},
   "outputs": [],
   "source": [
    "def txt_change(text_file_path):\n",
    "\n",
    "    new_text_content = ''\n",
    "    target_word = '1'\n",
    "    new_word = '0'\n",
    "    with open(text_file_path,'r') as f:\n",
    "        lines = f.readlines() ## 기존 텍스트파일에 대한 내용을 모두 읽는다.\n",
    "        for i in lines:\n",
    "            a = i[0].replace(target_word,new_word)\n",
    "            result = a + i[1:]\n",
    "            new_text_content += result\n",
    "            \n",
    "    with open(text_file_path,'w') as f:\n",
    "        f.write(new_text_content)   "
   ]
  },
  {
   "cell_type": "code",
   "execution_count": 14,
   "id": "1c89f6d1",
   "metadata": {},
   "outputs": [],
   "source": [
    "for i in list_data:\n",
    "    txt_change(i)"
   ]
  },
  {
   "cell_type": "code",
   "execution_count": null,
   "id": "b57cccc5",
   "metadata": {},
   "outputs": [],
   "source": []
  }
 ],
 "metadata": {
  "kernelspec": {
   "display_name": "Python 3",
   "language": "python",
   "name": "python3"
  },
  "language_info": {
   "codemirror_mode": {
    "name": "ipython",
    "version": 3
   },
   "file_extension": ".py",
   "mimetype": "text/x-python",
   "name": "python",
   "nbconvert_exporter": "python",
   "pygments_lexer": "ipython3",
   "version": "3.8.8"
  }
 },
 "nbformat": 4,
 "nbformat_minor": 5
}
