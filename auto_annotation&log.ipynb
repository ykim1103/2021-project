{
 "cells": [
  {
   "cell_type": "code",
   "execution_count": 2,
   "id": "5e20c22b",
   "metadata": {},
   "outputs": [],
   "source": [
    "import cv2, os, glob\n",
    "from xml.etree import ElementTree as et\n",
    "import shutil"
   ]
  },
  {
   "cell_type": "markdown",
   "id": "b666a090",
   "metadata": {},
   "source": [
    "### 파일분리"
   ]
  },
  {
   "cell_type": "code",
   "execution_count": null,
   "id": "5d3aba58",
   "metadata": {},
   "outputs": [],
   "source": [
    "with open('/data/open_dt/label_frame/5detection.txt','r') as f:\n",
    "    ff = f.read().split('\\n')"
   ]
  },
  {
   "cell_type": "code",
   "execution_count": null,
   "id": "6d017f17",
   "metadata": {},
   "outputs": [],
   "source": [
    "for i in range(10):\n",
    "    try:\n",
    "        os.mkdir(f'/data/open_dt/label_frame/{i}th_frame/')\n",
    "    except:\n",
    "        pass\n",
    "    log = open(f\"/data/open_dt/label_frame/{i}th_frame/file_list.txt\",'w')\n",
    "    \n",
    "    for j in ff[i*1000:i*1000+1000]:\n",
    "        img_name = j.split()[0]\n",
    "        shutil.copy(f'/data/open_dt/label_frame/hist_img/{img_name}',f'/data/open_dt/label_frame/{i}th_frame/{img_name}')\n",
    "        log.write(f\"{img_name}\\n\")\n",
    "        \n",
    "    log.close()    \n",
    "    "
   ]
  },
  {
   "cell_type": "markdown",
   "id": "7cbab490",
   "metadata": {},
   "source": [
    "## default xml 세팅"
   ]
  },
  {
   "cell_type": "code",
   "execution_count": null,
   "id": "a62a17ae",
   "metadata": {},
   "outputs": [],
   "source": [
    "with open('./p3d712.xml','r') as f:\n",
    "    parser = et.parse(f)"
   ]
  },
  {
   "cell_type": "code",
   "execution_count": null,
   "id": "af8552df",
   "metadata": {},
   "outputs": [],
   "source": [
    "root = parser.getroot()"
   ]
  },
  {
   "cell_type": "code",
   "execution_count": null,
   "id": "65756ead",
   "metadata": {},
   "outputs": [],
   "source": [
    "for i in root.findall(\"object\"):\n",
    "    root.remove(i)"
   ]
  },
  {
   "cell_type": "code",
   "execution_count": null,
   "id": "0ea0236d",
   "metadata": {},
   "outputs": [],
   "source": [
    "root.getchildren()"
   ]
  },
  {
   "cell_type": "code",
   "execution_count": null,
   "id": "1d8efc54",
   "metadata": {},
   "outputs": [],
   "source": [
    "def indent(elem, level = 0):\n",
    "    i = \"\\n\" + level + '\\t'\n",
    "    if len(elem):\n",
    "        if not elem.text or not elem.text.strip():\n",
    "            elem.text = i + \"\\t\"\n",
    "        if not elem.tail or not elem.tail.strip():\n",
    "            elem.tail = i\n",
    "            \n",
    "        for elem in elem:\n",
    "            indent(elem, level+1)\n",
    "        if not elem.tail or not elem.tail.strip():\n",
    "            elem.tail = i\n",
    "    else:\n",
    "        if level and (not elem.tail or not elem.tail.strip()):\n",
    "            elem.tail = i\n",
    "        "
   ]
  },
  {
   "cell_type": "code",
   "execution_count": null,
   "id": "6d89854c",
   "metadata": {},
   "outputs": [],
   "source": [
    "with oprn('./default.xml','wb') as f:\n",
    "    indent(root)\n",
    "    er = et.tostring(root)\n",
    "    f.write(er)"
   ]
  },
  {
   "cell_type": "markdown",
   "id": "56d19678",
   "metadata": {},
   "source": [
    "## xml함수"
   ]
  },
  {
   "cell_type": "code",
   "execution_count": null,
   "id": "16efc884",
   "metadata": {},
   "outputs": [],
   "source": [
    "def file_info_setting(path):\n",
    "    with open(\"default.xml\",'r') as f:\n",
    "        root = et.parse(f).getroot()\n",
    "    name = path.split(\"/\")[-1]\n",
    "    folder = path.split(\"/\")[-2]\n",
    "    root.find(\"filename\").text = name\n",
    "    root.find(\"path\").text = path\n",
    "    root.find(\"folder\").text = folder\n",
    "    img = cv2.imread(path)\n",
    "    h,w,c = img.shape\n",
    "    root.find('size').find(\"width\").text = str(w)\n",
    "    root.find('size').find(\"height\").text = str(h)\n",
    "    root.find('size').find(\"depth\").text = str(c)\n",
    "    \n",
    "    return root, img"
   ]
  },
  {
   "cell_type": "code",
   "execution_count": null,
   "id": "52dfa0d9",
   "metadata": {},
   "outputs": [],
   "source": [
    "path = \"/data/open_dt/label_fram/fsgsdgsdgsdgsg.jpg\"\n",
    "root, img = file_info_setting(root,path)"
   ]
  },
  {
   "cell_type": "code",
   "execution_count": null,
   "id": "4d5d6292",
   "metadata": {},
   "outputs": [],
   "source": [
    "indent(root)\n",
    "et.dump(root)"
   ]
  },
  {
   "cell_type": "code",
   "execution_count": 3,
   "id": "8b1fd8c3",
   "metadata": {},
   "outputs": [],
   "source": [
    "def make_object(name,bbox):\n",
    "    obj = et.Element(\"object\")\n",
    "    \n",
    "    el_name =et.Element(\"name\")\n",
    "    el_name.text = name\n",
    "    \n",
    "    pose = et.Element(\"pose\")\n",
    "    pose.text = \"Unspecified\"\n",
    "    \n",
    "    trunc = et.Element(\"truncated\")\n",
    "    trunc.text = \"0\"\n",
    "    \n",
    "    diff = et.Element(\"difficult\")\n",
    "    diff.text = \"0\"\n",
    "    \n",
    "    bndbox = et.Element(\"bndbox\")\n",
    "    \n",
    "    xmin = et.Element('xmin')\n",
    "    xmin.text = str(bbox[0])\n",
    "    \n",
    "    ymin = et.Element(\"ymin\")\n",
    "    ymin.text = str(bbox[1])\n",
    "    \n",
    "    xmax = et.Element(\"xmax\")\n",
    "    xmax.text = str(bbox[0] + bbox[2])\n",
    "    \n",
    "    ymax = et.Element(\"ymax\")\n",
    "    ymax.text = str(bbox[1] + bbox[3])\n",
    "    \n",
    "    bndbox.append(xmin)\n",
    "    bndbox.append(ymin)\n",
    "    bndbox.append(xmax)\n",
    "    bndbox.append(ymax)\n",
    "    \n",
    "    abj.append(el_name)\n",
    "    abj.append(pose)\n",
    "    abj.append(trunc)\n",
    "    abj.append(diff)\n",
    "    abj.append(bndbox)\n",
    "    \n",
    "    return obj\n"
   ]
  },
  {
   "cell_type": "code",
   "execution_count": null,
   "id": "8add5e6e",
   "metadata": {},
   "outputs": [],
   "source": [
    "def save_xml(root, path):\n",
    "    indent(root)\n",
    "    with open(paht, \"wb\") as f:\n",
    "        er = et.tostring(root)\n",
    "        f.write(er)"
   ]
  },
  {
   "cell_type": "code",
   "execution_count": null,
   "id": "2fdf8103",
   "metadata": {},
   "outputs": [],
   "source": [
    "net = cv2.dnn_DetectionModel(\"11.train/0826/yolov4_2.cfg\",'/data/kyj1103/fdsf/yolov4_2_best.weights')\n",
    "net.setInputScale(1/255)\n",
    "net.setInputSwapRB(True)\n",
    "net.setInputSize((864,864))\n",
    "net.setPreferableBackend(cv2.dnn.DNN_BACKEND_CUDA)\n",
    "net.setPreferableTarget(cv2.dnn.DNN_TARGET_CUDA_FP16)"
   ]
  },
  {
   "cell_type": "code",
   "execution_count": null,
   "id": "8388a4e4",
   "metadata": {},
   "outputs": [],
   "source": [
    "img = cv2.imread('/home/kyj1103/fjdfksjdf.jpg')\n",
    "c,s,bboxes = net.detect(img,nmsThreshold=0.4, confThreshold=0.8)\n",
    "obj = make_object(\"car\",bboxes[0])"
   ]
  },
  {
   "cell_type": "markdown",
   "id": "41a658c9",
   "metadata": {},
   "source": [
    "## detection"
   ]
  },
  {
   "cell_type": "code",
   "execution_count": null,
   "id": "0cdd2615",
   "metadata": {},
   "outputs": [],
   "source": [
    "net = cv2.dnn_DetectionModel(\"11.train/0826/yolov4_2.cfg\",'/data/kyj1103/fdsf/yolov4_2_best.weights')\n",
    "net.setInputScale(1/255)\n",
    "net.setInputSwapRB(True)\n",
    "net.setInputSize((864,864))\n",
    "net.setPreferableBackend(cv2.dnn.DNN_BACKEND_CUDA)\n",
    "net.setPreferableTarget(cv2.dnn.DNN_TARGET_CUDA_FP16)"
   ]
  },
  {
   "cell_type": "code",
   "execution_count": null,
   "id": "9da365f5",
   "metadata": {},
   "outputs": [],
   "source": [
    "file_count = 0\n",
    "\n",
    "total_count = len(glob.glob(f\"/home/kyj1103/*.jpg\"))\n",
    "\n",
    "for path in glob.glob(f\"/home/kyj1103/*.jpg\"): ga\n",
    "    root, img = file_info_setting(path)\n",
    "    c,s,bboxes = net.detect(imt, nmsThreshold = 0.4, confThreshold = 0.8)\n",
    "    \n",
    "    for cc, bbox in zip(c,bboxes):\n",
    "        if cc[0] == 1:\n",
    "            obj = make_object(\"license plate\", bbox)\n",
    "            root.append(obj)\n",
    "            \n",
    "    save_path = path[:-4] + \".xml\"\n",
    "    save_xml(root, save_path)\n",
    "    file_count +=1\n",
    "    print(f\"{file_count} / {total_count}\", end = \"\\r\")"
   ]
  },
  {
   "cell_type": "markdown",
   "id": "b85250bc",
   "metadata": {},
   "source": [
    "## log만들기"
   ]
  },
  {
   "cell_type": "code",
   "execution_count": null,
   "id": "e425321d",
   "metadata": {},
   "outputs": [],
   "source": [
    "from concurrent.futures import ThreadPoolExecutor, ProcessPoolExecutor\n",
    "import time"
   ]
  },
  {
   "cell_type": "code",
   "execution_count": null,
   "id": "7702cba7",
   "metadata": {},
   "outputs": [],
   "source": [
    "def gcd(pair):\n",
    "    a,b = pair\n",
    "    low = min(a,b)\n",
    "    for i in range(low,0,-1):\n",
    "        if a%i == 0 and b%i ==0:\n",
    "            return i\n",
    "    assert False, 'no reach'    "
   ]
  },
  {
   "cell_type": "code",
   "execution_count": null,
   "id": "fc2877fa",
   "metadata": {},
   "outputs": [],
   "source": [
    "numbers = [(1963309,2265973),(2029292,3010101),(1231233,2344252),(12389898,12381915),(55858581,2939393),\n",
    "          (1929292,2957589),(2292929,19191912),(18181818,35319398)]"
   ]
  },
  {
   "cell_type": "code",
   "execution_count": null,
   "id": "a649948a",
   "metadata": {},
   "outputs": [],
   "source": [
    "start = time.time()\n",
    "results = list(map(gcd,numbers))\n",
    "end = time.time()\n",
    "total = end - start\n",
    "\n",
    "print(f\"{total:2f}s\")"
   ]
  },
  {
   "cell_type": "code",
   "execution_count": null,
   "id": "006108b2",
   "metadata": {},
   "outputs": [],
   "source": [
    "start = time.time()\n",
    "pool = ThreadPoolExecutor(max_workers = 2)\n",
    "results = list(pool.map(gcd,numbers))\n",
    "end = time.time()\n",
    "total = end - start\n",
    "\n",
    "print(f\"{total:2f}s\")"
   ]
  }
 ],
 "metadata": {
  "kernelspec": {
   "display_name": "Python 3 (ipykernel)",
   "language": "python",
   "name": "python3"
  },
  "language_info": {
   "codemirror_mode": {
    "name": "ipython",
    "version": 3
   },
   "file_extension": ".py",
   "mimetype": "text/x-python",
   "name": "python",
   "nbconvert_exporter": "python",
   "pygments_lexer": "ipython3",
   "version": "3.8.8"
  }
 },
 "nbformat": 4,
 "nbformat_minor": 5
}
