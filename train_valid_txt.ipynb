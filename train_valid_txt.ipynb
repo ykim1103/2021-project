{
 "cells": [
  {
   "cell_type": "code",
   "execution_count": 4,
   "id": "68bc993e",
   "metadata": {},
   "outputs": [],
   "source": [
    "import glob\n",
    "\n",
    "# 이미지파일이 있는 폴더\n",
    "image_directory = '/data/kyj_dt/face_dataset/train'\n",
    "\n",
    "# 확장자\n",
    "extension = '*.jpg'\n",
    "\n",
    "# 텍스트 파일이 저장될 경로\n",
    "save_at = '/data/kyj_dt/face_dataset/train.txt'\n",
    "\n",
    "\n",
    "# 대상폴더에서 지정한 확장자를 가진 파일의 경로를 리스트화\n",
    "files = sorted(glob.glob(image_directory + extension))\n",
    "\n",
    "# 파일들이 경로를 텍스트 파일에 추가 및 출력\n",
    "for file in files:\n",
    "    f = open(save_at, 'a')\n",
    "    f.write(file+'\\n')\n",
    "    print(file)"
   ]
  },
  {
   "cell_type": "code",
   "execution_count": null,
   "id": "9e89bda6",
   "metadata": {},
   "outputs": [],
   "source": []
  }
 ],
 "metadata": {
  "kernelspec": {
   "display_name": "Python 3",
   "language": "python",
   "name": "python3"
  },
  "language_info": {
   "codemirror_mode": {
    "name": "ipython",
    "version": 3
   },
   "file_extension": ".py",
   "mimetype": "text/x-python",
   "name": "python",
   "nbconvert_exporter": "python",
   "pygments_lexer": "ipython3",
   "version": "3.8.8"
  }
 },
 "nbformat": 4,
 "nbformat_minor": 5
}
