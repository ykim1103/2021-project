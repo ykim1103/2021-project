{
 "cells": [
  {
   "cell_type": "code",
   "execution_count": 9,
   "id": "93ff8d8d",
   "metadata": {},
   "outputs": [],
   "source": [
    "import cv2\n",
    "import time\n",
    "import ipywidgets as widgets\n",
    "import IPython.display as display"
   ]
  },
  {
   "cell_type": "code",
   "execution_count": 10,
   "id": "dbcdefad",
   "metadata": {},
   "outputs": [],
   "source": [
    "CONFIDENCE_THRESHOLD = 0.2\n",
    "NMS_THRESHOLD = 0.4\n",
    "COLORS = [(0, 255, 255), (255, 255, 0), (0, 255, 0), (255, 0, 0)]"
   ]
  },
  {
   "cell_type": "code",
   "execution_count": 11,
   "id": "57b27eb6",
   "metadata": {},
   "outputs": [],
   "source": [
    "class_names = []\n",
    "with open(\"coco.names\", \"r\") as f:\n",
    "    class_names = [cname.strip() for cname in f.readlines()]"
   ]
  },
  {
   "cell_type": "code",
   "execution_count": 12,
   "id": "be78abbd",
   "metadata": {},
   "outputs": [],
   "source": [
    "net = cv2.dnn.readNet(\"yolov4.weights\", \"yolov4.cfg\")\n",
    "net.setPreferableBackend(cv2.dnn.DNN_BACKEND_CUDA)\n",
    "net.setPreferableTarget(cv2.dnn.DNN_TARGET_CUDA_FP16)"
   ]
  },
  {
   "cell_type": "code",
   "execution_count": 13,
   "id": "2335fa1f",
   "metadata": {},
   "outputs": [],
   "source": [
    "model = cv2.dnn_DetectionModel(net)\n",
    "model.setInputParams(size=(416, 416), scale=1/255, swapRB=True)"
   ]
  },
  {
   "cell_type": "code",
   "execution_count": 14,
   "id": "84935ef2",
   "metadata": {},
   "outputs": [
    {
     "name": "stdout",
     "output_type": "stream",
     "text": [
      "frame_size= (1920, 1080)\n"
     ]
    }
   ],
   "source": [
    "path = '/home/kyj1103/'\n",
    "#cap = cv2.VideoCapture(path+'/sejong_drive.mp4')\n",
    "cap = cv2.VideoCapture(path+'/pedestrian10.mp4') \n",
    "\n",
    "frame_size = (int(cap.get(cv2.CAP_PROP_FRAME_WIDTH)),int(cap.get(cv2.CAP_PROP_FRAME_HEIGHT)))\n",
    "print('frame_size=',frame_size)\n",
    "\n",
    "width, height = frame_size"
   ]
  },
  {
   "cell_type": "code",
   "execution_count": 15,
   "id": "58c7a5c9",
   "metadata": {},
   "outputs": [
    {
     "data": {
      "application/vnd.jupyter.widget-view+json": {
       "model_id": "69cd2b146f524c9f9954c30f02e11751",
       "version_major": 2,
       "version_minor": 0
      },
      "text/plain": [
       "Image(value=b'', layout=\"Layout(border='solid')\")"
      ]
     },
     "metadata": {},
     "output_type": "display_data"
    }
   ],
   "source": [
    "wlmg = widgets.Image(layout = widgets.Layout(border='solid'))\n",
    "display.display(wlmg)"
   ]
  },
  {
   "cell_type": "code",
   "execution_count": 16,
   "id": "39a068d8",
   "metadata": {},
   "outputs": [],
   "source": [
    "# 비디오 객체 있을 시\n",
    "if cap.isOpened():\n",
    "    # 비디오 객체의 정보를 얻어옴\n",
    "    ret,img = cap.read()\n",
    "    \n",
    "    while True:\n",
    "        ret, frame = cap.read()\n",
    "        if not ret:\n",
    "            break\n",
    "        \n",
    "        #동영상 파일에서 캡쳐된 이미지를 이밎 파일 스트림으로 다시 인코딩\n",
    "        tmpStream = cv2.imencode('.jpeg',img)[1].tostring()\n",
    "        wlmg.value = tmpStream\n",
    "    \n",
    "        # 20프레임이 되기 위한 딜레이 다만, 실제로 입력한 것보다 조금 더 딜레이가 있다.\n",
    "        time.sleep(0.05)\n",
    "        ret,img = cap.read()\n",
    "    \n",
    "\n",
    "        start = time.time()\n",
    "        classes, scores, boxes = model.detect(frame, CONFIDENCE_THRESHOLD, NMS_THRESHOLD)\n",
    "        end = time.time()\n",
    "\n",
    "        start_drawing = time.time()\n",
    "        for (classid, score, box) in zip(classes, scores, boxes):\n",
    "            color = COLORS[int(classid) % len(COLORS)]\n",
    "            label = \"%s : %f\" % (class_names[classid[0]], score)\n",
    "            cv2.rectangle(img, box, color, 2)\n",
    "            cv2.putText(img, label, (box[0], box[1] - 10), cv2.FONT_HERSHEY_SIMPLEX, 0.5, color, 2)\n",
    "        \n",
    "        \n",
    "            # 블러처리\n",
    "            left, top, width, height = box\n",
    "            roi = img[top:top+height, left:left+width]   # 관심영역 지정\n",
    "            roi = cv2.GaussianBlur(roi,(15,15),0)\n",
    "            img[top:top+height, left:left+width] = roi   # 원본 이미지에 적용\n",
    "        \n",
    "        \n",
    "        end_drawing = time.time()\n",
    "    \n",
    "        fps_label = \"FPS: %.2f (excluding drawing time of %.2fms)\" % (1 / (end - start), (end_drawing - start_drawing) * 1000)\n",
    "        cv2.putText(img, fps_label, (0, 25), cv2.FONT_HERSHEY_SIMPLEX, 1, (0, 0, 0), 2)\n",
    "    \n",
    "    \n",
    "        \n",
    "cap.release()\n"
   ]
  },
  {
   "cell_type": "code",
   "execution_count": null,
   "id": "1f568577",
   "metadata": {},
   "outputs": [],
   "source": []
  },
  {
   "cell_type": "code",
   "execution_count": null,
   "id": "11b838a2",
   "metadata": {},
   "outputs": [],
   "source": []
  }
 ],
 "metadata": {
  "kernelspec": {
   "display_name": "pytorch",
   "language": "python",
   "name": "pytorch"
  },
  "language_info": {
   "codemirror_mode": {
    "name": "ipython",
    "version": 3
   },
   "file_extension": ".py",
   "mimetype": "text/x-python",
   "name": "python",
   "nbconvert_exporter": "python",
   "pygments_lexer": "ipython3",
   "version": "3.6.13"
  }
 },
 "nbformat": 4,
 "nbformat_minor": 5
}
