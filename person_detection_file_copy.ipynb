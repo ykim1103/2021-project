{
 "cells": [
  {
   "cell_type": "code",
   "execution_count": 1,
   "id": "37206966",
   "metadata": {},
   "outputs": [],
   "source": [
    "import os,glob\n",
    "import xml.etree.ElementTree as ET\n",
    "from xml.etree.ElementTree import Element,dump,ElementTree"
   ]
  },
  {
   "cell_type": "code",
   "execution_count": 2,
   "id": "37c0cf53",
   "metadata": {},
   "outputs": [],
   "source": [
    "def sorted_list(path):\n",
    "    tmplist = glob.glob(path)\n",
    "    tmplist.sort()\n",
    "    \n",
    "    return tmplist"
   ]
  },
  {
   "cell_type": "code",
   "execution_count": 3,
   "id": "e5818cfb",
   "metadata": {},
   "outputs": [],
   "source": [
    "path = 'C:/Users/User/Desktop/img_dataset'"
   ]
  },
  {
   "cell_type": "code",
   "execution_count": 4,
   "id": "4170160f",
   "metadata": {},
   "outputs": [],
   "source": [
    "list_data = sorted_list(os.path.join(path,'*.jpg'))"
   ]
  },
  {
   "cell_type": "markdown",
   "id": "8ec80bd9",
   "metadata": {},
   "source": [
    "##### detection이 사람인거만 목록으로 저장해서 txt파일로 저장"
   ]
  },
  {
   "cell_type": "code",
   "execution_count": null,
   "id": "f0a21c3c",
   "metadata": {},
   "outputs": [],
   "source": [
    "result = []\n",
    "for i in list_data:\n",
    "    doc = ET.parse(i)\n",
    "    root = doc.getroot()\n",
    "    name_tag = root.findall('object')\n",
    "    \n",
    "    print(i)\n",
    "    \n",
    "    for j in range(len(name_tag)):\n",
    "        print(name_tag[j].find('name').text)\n",
    "        if name_tag[j].find('name').text == 'person' or name_tag[j].find('name').text =='face':\n",
    "            result.append(i)\n",
    "            \n",
    "            # 중복된 사진제거\n",
    "            result_set = set(result)\n",
    "            result = list(result_set)\n",
    "            \n",
    "            with open('face_detect.txt','w') as f:\n",
    "                for r result:\n",
    "                    r = path+r.split('/')[-1].split('.')[0]+'.jpg'\n",
    "                    f.write(r+'\\n')\n",
    "    print('-----------------------------')               \n",
    "            "
   ]
  },
  {
   "cell_type": "markdown",
   "id": "8d2a8fe9",
   "metadata": {},
   "source": [
    "##### 저장된 txt불러오기"
   ]
  },
  {
   "cell_type": "code",
   "execution_count": null,
   "id": "a9a330de",
   "metadata": {},
   "outputs": [],
   "source": [
    "with open('face_detect.txt','r') as file:\n",
    "    data = file.read().splitlines()"
   ]
  },
  {
   "cell_type": "markdown",
   "id": "53efd73e",
   "metadata": {},
   "source": [
    "#### 리스트 목록을 다른 폴더에 복사"
   ]
  },
  {
   "cell_type": "code",
   "execution_count": 6,
   "id": "5284d0da",
   "metadata": {},
   "outputs": [],
   "source": [
    "import shutil"
   ]
  },
  {
   "cell_type": "code",
   "execution_count": 7,
   "id": "4b629f51",
   "metadata": {},
   "outputs": [],
   "source": [
    "destination = '/home/kyj1103/data/0th_frame'"
   ]
  },
  {
   "cell_type": "code",
   "execution_count": null,
   "id": "eb1d7d56",
   "metadata": {},
   "outputs": [],
   "source": [
    "for i in data:\n",
    "    a = i.split('/')[-1]\n",
    "    shutil.copyfile(i,destination+a)"
   ]
  }
 ],
 "metadata": {
  "kernelspec": {
   "display_name": "Python 3",
   "language": "python",
   "name": "python3"
  },
  "language_info": {
   "codemirror_mode": {
    "name": "ipython",
    "version": 3
   },
   "file_extension": ".py",
   "mimetype": "text/x-python",
   "name": "python",
   "nbconvert_exporter": "python",
   "pygments_lexer": "ipython3",
   "version": "3.8.8"
  }
 },
 "nbformat": 4,
 "nbformat_minor": 5
}
